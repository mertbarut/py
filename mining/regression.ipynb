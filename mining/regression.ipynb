{
 "cells": [
  {
   "cell_type": "code",
   "execution_count": 49,
   "metadata": {},
   "outputs": [
    {
     "name": "stdout",
     "output_type": "stream",
     "text": [
      "Populating the interactive namespace from numpy and matplotlib\n"
     ]
    }
   ],
   "source": [
    "%pylab inline\n",
    "import numpy as np\n",
    "import matplotlib.pyplot as plt\n",
    "import pandas as pd"
   ]
  },
  {
   "cell_type": "code",
   "execution_count": 50,
   "metadata": {},
   "outputs": [
    {
     "data": {
      "text/plain": [
       "<matplotlib.collections.PathCollection at 0x7f51f94bafa0>"
      ]
     },
     "execution_count": 50,
     "metadata": {},
     "output_type": "execute_result"
    },
    {
     "data": {
      "image/png": "[encoded data removed]",
      "text/plain": [
       "<Figure size 432x288 with 1 Axes>"
      ]
     },
     "metadata": {
      "needs_background": "light"
     },
     "output_type": "display_data"
    }
   ],
   "source": [
    "mammals = pd.read_csv(\"../data/mammals.csv\")\n",
    "plt.scatter(mammals['body'], mammals['brain'])"
   ]
  },
  {
   "cell_type": "code",
   "execution_count": 51,
   "metadata": {},
   "outputs": [
    {
     "data": {
      "text/plain": [
       "(62,)"
      ]
     },
     "execution_count": 51,
     "metadata": {},
     "output_type": "execute_result"
    }
   ],
   "source": [
    "body_data = mammals[\"body\"]\n",
    "body_data.shape"
   ]
  },
  {
   "cell_type": "code",
   "execution_count": 52,
   "metadata": {},
   "outputs": [
    {
     "data": {
      "text/plain": [
       "(62,)"
      ]
     },
     "execution_count": 52,
     "metadata": {},
     "output_type": "execute_result"
    }
   ],
   "source": [
    "brain_data = mammals[\"brain\"]\n",
    "brain_data.shape"
   ]
  },
  {
   "cell_type": "code",
   "execution_count": 53,
   "metadata": {},
   "outputs": [],
   "source": [
    "import statsmodels.api as sm\n",
    "body_data = sm.add_constant(body_data)"
   ]
  },
  {
   "cell_type": "code",
   "execution_count": 54,
   "metadata": {},
   "outputs": [],
   "source": [
    "regression1 = sm.OLS(brain_data, body_data).fit()"
   ]
  },
  {
   "cell_type": "code",
   "execution_count": 55,
   "metadata": {},
   "outputs": [],
   "source": [
    "import statsmodels.formula.api as smf"
   ]
  },
  {
   "cell_type": "code",
   "execution_count": 56,
   "metadata": {},
   "outputs": [],
   "source": [
    "regression2 = smf.ols(formula='brain ~ body', data=mammals).fit()"
   ]
  },
  {
   "cell_type": "code",
   "execution_count": 57,
   "metadata": {},
   "outputs": [
    {
     "data": {
      "text/html": [
       "<table class=\"simpletable\">\n",
       "<caption>OLS Regression Results</caption>\n",
       "<tr>\n",
       "  <th>Dep. Variable:</th>          <td>brain</td>      <th>  R-squared:         </th> <td>   0.873</td>\n",
       "</tr>\n",
       "<tr>\n",
       "  <th>Model:</th>                   <td>OLS</td>       <th>  Adj. R-squared:    </th> <td>   0.871</td>\n",
       "</tr>\n",
       "<tr>\n",
       "  <th>Method:</th>             <td>Least Squares</td>  <th>  F-statistic:       </th> <td>   411.2</td>\n",
       "</tr>\n",
       "<tr>\n",
       "  <th>Date:</th>             <td>Mon, 21 Feb 2022</td> <th>  Prob (F-statistic):</th> <td>1.54e-28</td>\n",
       "</tr>\n",
       "<tr>\n",
       "  <th>Time:</th>                 <td>21:23:15</td>     <th>  Log-Likelihood:    </th> <td> -447.38</td>\n",
       "</tr>\n",
       "<tr>\n",
       "  <th>No. Observations:</th>      <td>    62</td>      <th>  AIC:               </th> <td>   898.8</td>\n",
       "</tr>\n",
       "<tr>\n",
       "  <th>Df Residuals:</th>          <td>    60</td>      <th>  BIC:               </th> <td>   903.0</td>\n",
       "</tr>\n",
       "<tr>\n",
       "  <th>Df Model:</th>              <td>     1</td>      <th>                     </th>     <td> </td>   \n",
       "</tr>\n",
       "<tr>\n",
       "  <th>Covariance Type:</th>      <td>nonrobust</td>    <th>                     </th>     <td> </td>   \n",
       "</tr>\n",
       "</table>\n",
       "<table class=\"simpletable\">\n",
       "<tr>\n",
       "    <td></td>       <th>coef</th>     <th>std err</th>      <th>t</th>      <th>P>|t|</th>  <th>[0.025</th>    <th>0.975]</th>  \n",
       "</tr>\n",
       "<tr>\n",
       "  <th>const</th> <td>   91.0044</td> <td>   43.553</td> <td>    2.090</td> <td> 0.041</td> <td>    3.886</td> <td>  178.123</td>\n",
       "</tr>\n",
       "<tr>\n",
       "  <th>body</th>  <td>    0.9665</td> <td>    0.048</td> <td>   20.278</td> <td> 0.000</td> <td>    0.871</td> <td>    1.062</td>\n",
       "</tr>\n",
       "</table>\n",
       "<table class=\"simpletable\">\n",
       "<tr>\n",
       "  <th>Omnibus:</th>       <td>92.942</td> <th>  Durbin-Watson:     </th> <td>   2.339</td>\n",
       "</tr>\n",
       "<tr>\n",
       "  <th>Prob(Omnibus):</th> <td> 0.000</td> <th>  Jarque-Bera (JB):  </th> <td>1738.656</td>\n",
       "</tr>\n",
       "<tr>\n",
       "  <th>Skew:</th>          <td> 4.382</td> <th>  Prob(JB):          </th> <td>    0.00</td>\n",
       "</tr>\n",
       "<tr>\n",
       "  <th>Kurtosis:</th>      <td>27.417</td> <th>  Cond. No.          </th> <td>    936.</td>\n",
       "</tr>\n",
       "</table><br/><br/>Notes:<br/>[1] Standard Errors assume that the covariance matrix of the errors is correctly specified."
      ],
      "text/plain": [
       "<class 'statsmodels.iolib.summary.Summary'>\n",
       "\"\"\"\n",
       "                            OLS Regression Results                            \n",
       "==============================================================================\n",
       "Dep. Variable:                  brain   R-squared:                       0.873\n",
       "Model:                            OLS   Adj. R-squared:                  0.871\n",
       "Method:                 Least Squares   F-statistic:                     411.2\n",
       "Date:                Mon, 21 Feb 2022   Prob (F-statistic):           1.54e-28\n",
       "Time:                        21:23:15   Log-Likelihood:                -447.38\n",
       "No. Observations:                  62   AIC:                             898.8\n",
       "Df Residuals:                      60   BIC:                             903.0\n",
       "Df Model:                           1                                         \n",
       "Covariance Type:            nonrobust                                         \n",
       "==============================================================================\n",
       "                 coef    std err          t      P>|t|      [0.025      0.975]\n",
       "------------------------------------------------------------------------------\n",
       "const         91.0044     43.553      2.090      0.041       3.886     178.123\n",
       "body           0.9665      0.048     20.278      0.000       0.871       1.062\n",
       "==============================================================================\n",
       "Omnibus:                       92.942   Durbin-Watson:                   2.339\n",
       "Prob(Omnibus):                  0.000   Jarque-Bera (JB):             1738.656\n",
       "Skew:                           4.382   Prob(JB):                         0.00\n",
       "Kurtosis:                      27.417   Cond. No.                         936.\n",
       "==============================================================================\n",
       "\n",
       "Notes:\n",
       "[1] Standard Errors assume that the covariance matrix of the errors is correctly specified.\n",
       "\"\"\""
      ]
     },
     "execution_count": 57,
     "metadata": {},
     "output_type": "execute_result"
    }
   ],
   "source": [
    "regression1.summary()"
   ]
  },
  {
   "cell_type": "code",
   "execution_count": 58,
   "metadata": {},
   "outputs": [
    {
     "data": {
      "text/plain": [
       "Intercept    91.004396\n",
       "body          0.966496\n",
       "dtype: float64"
      ]
     },
     "execution_count": 58,
     "metadata": {},
     "output_type": "execute_result"
    }
   ],
   "source": [
    "regression2.params"
   ]
  },
  {
   "cell_type": "code",
   "execution_count": 59,
   "metadata": {},
   "outputs": [],
   "source": [
    "new_body =  np.linspace(0, 7000, 10)"
   ]
  },
  {
   "cell_type": "code",
   "execution_count": 60,
   "metadata": {},
   "outputs": [
    {
     "name": "stdout",
     "output_type": "stream",
     "text": [
      "0      91.004396\n",
      "1     842.723793\n",
      "2    1594.443190\n",
      "3    2346.162587\n",
      "4    3097.881985\n",
      "5    3849.601382\n",
      "6    4601.320779\n",
      "7    5353.040176\n",
      "8    6104.759573\n",
      "9    6856.478970\n",
      "dtype: float64\n"
     ]
    }
   ],
   "source": [
    "brain_pred = regression2.predict(exog=dict(body=new_body))\n",
    "print(brain_pred)"
   ]
  },
  {
   "cell_type": "code",
   "execution_count": 61,
   "metadata": {},
   "outputs": [],
   "source": [
    "body_data = mammals[['body']]\n",
    "brain_data = mammals[['brain']]"
   ]
  },
  {
   "cell_type": "code",
   "execution_count": 62,
   "metadata": {},
   "outputs": [
    {
     "name": "stdout",
     "output_type": "stream",
     "text": [
      "       body\n",
      "0     3.385\n",
      "1     0.480\n",
      "2     1.350\n",
      "3   465.000\n",
      "4    36.330\n",
      "..      ...\n",
      "57  160.000\n",
      "58    0.900\n",
      "59    1.620\n",
      "60    0.104\n",
      "61    4.235\n",
      "\n",
      "[62 rows x 1 columns]\n"
     ]
    }
   ],
   "source": [
    "print(body_data)"
   ]
  },
  {
   "cell_type": "code",
   "execution_count": 63,
   "metadata": {},
   "outputs": [],
   "source": [
    "from sklearn import linear_model\n",
    "sk_regr = linear_model.LinearRegression()"
   ]
  },
  {
   "cell_type": "code",
   "execution_count": 64,
   "metadata": {},
   "outputs": [
    {
     "data": {
      "text/plain": [
       "LinearRegression()"
      ]
     },
     "execution_count": 64,
     "metadata": {},
     "output_type": "execute_result"
    }
   ],
   "source": [
    "sk_regr.fit(body_data, brain_data)"
   ]
  },
  {
   "cell_type": "code",
   "execution_count": 65,
   "metadata": {},
   "outputs": [
    {
     "name": "stdout",
     "output_type": "stream",
     "text": [
      "[[0.96649637]]\n"
     ]
    }
   ],
   "source": [
    "print(sk_regr.coef_)"
   ]
  },
  {
   "cell_type": "code",
   "execution_count": 66,
   "metadata": {},
   "outputs": [
    {
     "name": "stdout",
     "output_type": "stream",
     "text": [
      "[91.00439621]\n"
     ]
    }
   ],
   "source": [
    "print(sk_regr.intercept_)"
   ]
  },
  {
   "cell_type": "code",
   "execution_count": 67,
   "metadata": {},
   "outputs": [
    {
     "name": "stdout",
     "output_type": "stream",
     "text": [
      "0.8726620843043331\n"
     ]
    }
   ],
   "source": [
    "print(sk_regr.score(body_data, brain_data))"
   ]
  },
  {
   "cell_type": "code",
   "execution_count": 68,
   "metadata": {},
   "outputs": [
    {
     "name": "stdout",
     "output_type": "stream",
     "text": [
      "[[  91.00439621]\n",
      " [ 842.72379329]\n",
      " [1594.44319036]\n",
      " [2346.16258744]\n",
      " [3097.88198452]\n",
      " [3849.6013816 ]\n",
      " [4601.32077868]\n",
      " [5353.04017576]\n",
      " [6104.75957284]\n",
      " [6856.47896992]]\n"
     ]
    }
   ],
   "source": [
    "new_body = np.linspace(0, 7000, 10)\n",
    "new_body = new_body[:, np.newaxis]\n",
    "brain_pred = sk_regr.predict(new_body)\n",
    "print(brain_pred)"
   ]
  },
  {
   "cell_type": "code",
   "execution_count": 69,
   "metadata": {},
   "outputs": [],
   "source": [
    "from numpy import log"
   ]
  },
  {
   "cell_type": "code",
   "execution_count": 70,
   "metadata": {},
   "outputs": [],
   "source": [
    "mammals['log_body'] = log(mammals['body'])\n",
    "mammals['log_brain'] = log(mammals['brain'])"
   ]
  },
  {
   "cell_type": "code",
   "execution_count": 71,
   "metadata": {},
   "outputs": [],
   "source": [
    "log_lm = smf.ols(formula= 'log_brain ~ log_body', data=mammals).fit()"
   ]
  },
  {
   "cell_type": "code",
   "execution_count": 72,
   "metadata": {},
   "outputs": [
    {
     "data": {
      "text/html": [
       "<table class=\"simpletable\">\n",
       "<caption>OLS Regression Results</caption>\n",
       "<tr>\n",
       "  <th>Dep. Variable:</th>        <td>log_brain</td>    <th>  R-squared:         </th> <td>   0.921</td>\n",
       "</tr>\n",
       "<tr>\n",
       "  <th>Model:</th>                   <td>OLS</td>       <th>  Adj. R-squared:    </th> <td>   0.919</td>\n",
       "</tr>\n",
       "<tr>\n",
       "  <th>Method:</th>             <td>Least Squares</td>  <th>  F-statistic:       </th> <td>   697.4</td>\n",
       "</tr>\n",
       "<tr>\n",
       "  <th>Date:</th>             <td>Mon, 21 Feb 2022</td> <th>  Prob (F-statistic):</th> <td>9.84e-35</td>\n",
       "</tr>\n",
       "<tr>\n",
       "  <th>Time:</th>                 <td>21:23:16</td>     <th>  Log-Likelihood:    </th> <td> -64.336</td>\n",
       "</tr>\n",
       "<tr>\n",
       "  <th>No. Observations:</th>      <td>    62</td>      <th>  AIC:               </th> <td>   132.7</td>\n",
       "</tr>\n",
       "<tr>\n",
       "  <th>Df Residuals:</th>          <td>    60</td>      <th>  BIC:               </th> <td>   136.9</td>\n",
       "</tr>\n",
       "<tr>\n",
       "  <th>Df Model:</th>              <td>     1</td>      <th>                     </th>     <td> </td>   \n",
       "</tr>\n",
       "<tr>\n",
       "  <th>Covariance Type:</th>      <td>nonrobust</td>    <th>                     </th>     <td> </td>   \n",
       "</tr>\n",
       "</table>\n",
       "<table class=\"simpletable\">\n",
       "<tr>\n",
       "      <td></td>         <th>coef</th>     <th>std err</th>      <th>t</th>      <th>P>|t|</th>  <th>[0.025</th>    <th>0.975]</th>  \n",
       "</tr>\n",
       "<tr>\n",
       "  <th>Intercept</th> <td>    2.1348</td> <td>    0.096</td> <td>   22.227</td> <td> 0.000</td> <td>    1.943</td> <td>    2.327</td>\n",
       "</tr>\n",
       "<tr>\n",
       "  <th>log_body</th>  <td>    0.7517</td> <td>    0.028</td> <td>   26.409</td> <td> 0.000</td> <td>    0.695</td> <td>    0.809</td>\n",
       "</tr>\n",
       "</table>\n",
       "<table class=\"simpletable\">\n",
       "<tr>\n",
       "  <th>Omnibus:</th>       <td> 2.698</td> <th>  Durbin-Watson:     </th> <td>   1.980</td>\n",
       "</tr>\n",
       "<tr>\n",
       "  <th>Prob(Omnibus):</th> <td> 0.260</td> <th>  Jarque-Bera (JB):  </th> <td>   1.933</td>\n",
       "</tr>\n",
       "<tr>\n",
       "  <th>Skew:</th>          <td> 0.405</td> <th>  Prob(JB):          </th> <td>   0.380</td>\n",
       "</tr>\n",
       "<tr>\n",
       "  <th>Kurtosis:</th>      <td> 3.301</td> <th>  Cond. No.          </th> <td>    3.73</td>\n",
       "</tr>\n",
       "</table><br/><br/>Notes:<br/>[1] Standard Errors assume that the covariance matrix of the errors is correctly specified."
      ],
      "text/plain": [
       "<class 'statsmodels.iolib.summary.Summary'>\n",
       "\"\"\"\n",
       "                            OLS Regression Results                            \n",
       "==============================================================================\n",
       "Dep. Variable:              log_brain   R-squared:                       0.921\n",
       "Model:                            OLS   Adj. R-squared:                  0.919\n",
       "Method:                 Least Squares   F-statistic:                     697.4\n",
       "Date:                Mon, 21 Feb 2022   Prob (F-statistic):           9.84e-35\n",
       "Time:                        21:23:16   Log-Likelihood:                -64.336\n",
       "No. Observations:                  62   AIC:                             132.7\n",
       "Df Residuals:                      60   BIC:                             136.9\n",
       "Df Model:                           1                                         \n",
       "Covariance Type:            nonrobust                                         \n",
       "==============================================================================\n",
       "                 coef    std err          t      P>|t|      [0.025      0.975]\n",
       "------------------------------------------------------------------------------\n",
       "Intercept      2.1348      0.096     22.227      0.000       1.943       2.327\n",
       "log_body       0.7517      0.028     26.409      0.000       0.695       0.809\n",
       "==============================================================================\n",
       "Omnibus:                        2.698   Durbin-Watson:                   1.980\n",
       "Prob(Omnibus):                  0.260   Jarque-Bera (JB):                1.933\n",
       "Skew:                           0.405   Prob(JB):                        0.380\n",
       "Kurtosis:                       3.301   Cond. No.                         3.73\n",
       "==============================================================================\n",
       "\n",
       "Notes:\n",
       "[1] Standard Errors assume that the covariance matrix of the errors is correctly specified.\n",
       "\"\"\""
      ]
     },
     "execution_count": 72,
     "metadata": {},
     "output_type": "execute_result"
    }
   ],
   "source": [
    "log_lm.summary()"
   ]
  },
  {
   "cell_type": "code",
   "execution_count": 73,
   "metadata": {},
   "outputs": [
    {
     "data": {
      "text/plain": [
       "28.92271042146064"
      ]
     },
     "execution_count": 73,
     "metadata": {},
     "output_type": "execute_result"
    }
   ],
   "source": [
    "log_lm.ssr"
   ]
  },
  {
   "cell_type": "code",
   "execution_count": 74,
   "metadata": {},
   "outputs": [],
   "source": [
    "from sklearn import preprocessing"
   ]
  },
  {
   "cell_type": "code",
   "execution_count": 75,
   "metadata": {},
   "outputs": [],
   "source": [
    "scaler = preprocessing.MinMaxScaler()"
   ]
  },
  {
   "cell_type": "code",
   "execution_count": 76,
   "metadata": {},
   "outputs": [
    {
     "name": "stdout",
     "output_type": "stream",
     "text": [
      "        body     brain\n",
      "0   0.000508  0.007766\n",
      "1   0.000071  0.002689\n",
      "2   0.000202  0.001394\n",
      "3   0.069882  0.074032\n",
      "4   0.005459  0.020897\n",
      "..       ...       ...\n",
      "57  0.024045  0.029563\n",
      "58  0.000135  0.000431\n",
      "59  0.000243  0.001971\n",
      "60  0.000015  0.000413\n",
      "61  0.000636  0.008799\n",
      "\n",
      "[62 rows x 2 columns]\n"
     ]
    }
   ],
   "source": [
    "mammals_minmax = pd.DataFrame(scaler.fit_transform(mammals[['body', 'brain']]), columns= ['body', 'brain'])\n",
    "print(mammals_minmax)"
   ]
  },
  {
   "cell_type": "code",
   "execution_count": 77,
   "metadata": {},
   "outputs": [
    {
     "data": {
      "text/html": [
       "<div>\n",
       "<style scoped>\n",
       "    .dataframe tbody tr th:only-of-type {\n",
       "        vertical-align: middle;\n",
       "    }\n",
       "\n",
       "    .dataframe tbody tr th {\n",
       "        vertical-align: top;\n",
       "    }\n",
       "\n",
       "    .dataframe thead tr th {\n",
       "        text-align: left;\n",
       "    }\n",
       "</style>\n",
       "<table border=\"1\" class=\"dataframe\">\n",
       "  <thead>\n",
       "    <tr>\n",
       "      <th></th>\n",
       "      <th colspan=\"2\" halign=\"left\">body</th>\n",
       "      <th colspan=\"2\" halign=\"left\">brain</th>\n",
       "    </tr>\n",
       "    <tr>\n",
       "      <th></th>\n",
       "      <th>min</th>\n",
       "      <th>max</th>\n",
       "      <th>min</th>\n",
       "      <th>max</th>\n",
       "    </tr>\n",
       "  </thead>\n",
       "  <tbody>\n",
       "    <tr>\n",
       "      <th>0</th>\n",
       "      <td>0.0</td>\n",
       "      <td>1.0</td>\n",
       "      <td>0.0</td>\n",
       "      <td>1.0</td>\n",
       "    </tr>\n",
       "  </tbody>\n",
       "</table>\n",
       "</div>"
      ],
      "text/plain": [
       "  body      brain     \n",
       "   min  max   min  max\n",
       "0  0.0  1.0   0.0  1.0"
      ]
     },
     "execution_count": 77,
     "metadata": {},
     "output_type": "execute_result"
    }
   ],
   "source": [
    "mammals_minmax.groupby(lambda idx: 0).agg(['min', 'max'])"
   ]
  },
  {
   "cell_type": "code",
   "execution_count": 78,
   "metadata": {},
   "outputs": [],
   "source": [
    "scaler2 = preprocessing.StandardScaler()"
   ]
  },
  {
   "cell_type": "code",
   "execution_count": 80,
   "metadata": {},
   "outputs": [
    {
     "name": "stdout",
     "output_type": "stream",
     "text": [
      "        body     brain\n",
      "0  -0.219094 -0.258613\n",
      "1  -0.222351 -0.290041\n",
      "2  -0.221376 -0.298061\n",
      "3   0.298483  0.151576\n",
      "4  -0.182155 -0.177334\n",
      "..       ...       ...\n",
      "57 -0.043493 -0.123690\n",
      "58 -0.221880 -0.304021\n",
      "59 -0.221073 -0.294484\n",
      "60 -0.222773 -0.304129\n",
      "61 -0.218141 -0.252219\n",
      "\n",
      "[62 rows x 2 columns]\n"
     ]
    }
   ],
   "source": [
    "mammals_std = pd.DataFrame(scaler2.fit_transform(mammals[['body', 'brain']]), columns=['body', 'brain'])\n",
    "print(mammals_std)"
   ]
  },
  {
   "cell_type": "code",
   "execution_count": 81,
   "metadata": {},
   "outputs": [
    {
     "data": {
      "text/html": [
       "<div>\n",
       "<style scoped>\n",
       "    .dataframe tbody tr th:only-of-type {\n",
       "        vertical-align: middle;\n",
       "    }\n",
       "\n",
       "    .dataframe tbody tr th {\n",
       "        vertical-align: top;\n",
       "    }\n",
       "\n",
       "    .dataframe thead tr th {\n",
       "        text-align: left;\n",
       "    }\n",
       "</style>\n",
       "<table border=\"1\" class=\"dataframe\">\n",
       "  <thead>\n",
       "    <tr>\n",
       "      <th></th>\n",
       "      <th colspan=\"2\" halign=\"left\">body</th>\n",
       "      <th colspan=\"2\" halign=\"left\">brain</th>\n",
       "    </tr>\n",
       "    <tr>\n",
       "      <th></th>\n",
       "      <th>mean</th>\n",
       "      <th>std</th>\n",
       "      <th>mean</th>\n",
       "      <th>std</th>\n",
       "    </tr>\n",
       "  </thead>\n",
       "  <tbody>\n",
       "    <tr>\n",
       "      <th>0</th>\n",
       "      <td>1.790682e-18</td>\n",
       "      <td>1.008163</td>\n",
       "      <td>-3.223228e-17</td>\n",
       "      <td>1.008163</td>\n",
       "    </tr>\n",
       "  </tbody>\n",
       "</table>\n",
       "</div>"
      ],
      "text/plain": [
       "           body                   brain          \n",
       "           mean       std          mean       std\n",
       "0  1.790682e-18  1.008163 -3.223228e-17  1.008163"
      ]
     },
     "execution_count": 81,
     "metadata": {},
     "output_type": "execute_result"
    }
   ],
   "source": [
    "mammals_std.groupby(lambda idx: 0).agg(['mean', 'std'])"
   ]
  },
  {
   "cell_type": "code",
   "execution_count": 82,
   "metadata": {},
   "outputs": [],
   "source": [
    "mammals['body_squared']=mammals['body']**2"
   ]
  },
  {
   "cell_type": "code",
   "execution_count": 83,
   "metadata": {},
   "outputs": [],
   "source": [
    "poly_reg = smf.ols(formula='brain ~ body + body_squared', data=mammals).fit()"
   ]
  },
  {
   "cell_type": "code",
   "execution_count": 84,
   "metadata": {},
   "outputs": [
    {
     "name": "stdout",
     "output_type": "stream",
     "text": [
      "Intercept       19.115299\n",
      "body             2.123929\n",
      "body_squared    -0.000189\n",
      "dtype: float64\n"
     ]
    }
   ],
   "source": [
    "print(poly_reg.params)"
   ]
  },
  {
   "cell_type": "code",
   "execution_count": 86,
   "metadata": {},
   "outputs": [
    {
     "name": "stdout",
     "output_type": "stream",
     "text": [
      "0      19.115299\n",
      "1    1556.445107\n",
      "2    2864.544483\n",
      "3    3943.413428\n",
      "4    4793.051941\n",
      "5    5413.460023\n",
      "6    5804.637672\n",
      "7    5966.584891\n",
      "8    5899.301677\n",
      "9    5602.788032\n",
      "dtype: float64\n"
     ]
    }
   ],
   "source": [
    "poly_brain_pred = poly_reg.predict(exog=dict(body=new_body, body_squared=new_body**2))\n",
    "print(poly_brain_pred)"
   ]
  },
  {
   "cell_type": "code",
   "execution_count": 87,
   "metadata": {},
   "outputs": [],
   "source": [
    "mammals['body_cubed'] = mammals['body']**3"
   ]
  },
  {
   "cell_type": "code",
   "execution_count": 88,
   "metadata": {},
   "outputs": [],
   "source": [
    "from sklearn import preprocessing"
   ]
  },
  {
   "cell_type": "code",
   "execution_count": 89,
   "metadata": {},
   "outputs": [],
   "source": [
    "X = mammals[['body', 'body_squared', 'body_cubed']]\n",
    "Y = mammals[['brain']]\n",
    "\n",
    "Xscaled = preprocessing.StandardScaler().fit_transform(X)\n",
    "Yscaled = preprocessing.StandardScaler().fit_transform(Y)"
   ]
  },
  {
   "cell_type": "code",
   "execution_count": 90,
   "metadata": {},
   "outputs": [
    {
     "data": {
      "text/plain": [
       "array([[-2.19094031e-01, -1.48523288e-01, -1.35321658e-01],\n",
       "       [-2.22351206e-01, -1.48525285e-01, -1.35321659e-01],\n",
       "       [-2.21375735e-01, -1.48525002e-01, -1.35321659e-01],\n",
       "       [ 2.98482794e-01, -1.10062655e-01, -1.32614182e-01],\n",
       "       [-1.82155092e-01, -1.48290545e-01, -1.35320367e-01],\n",
       "       [-1.91876160e-01, -1.48389233e-01, -1.35321089e-01],\n",
       "       [-2.06261548e-01, -1.48486205e-01, -1.35321571e-01],\n",
       "       [-2.21723317e-01, -1.48525134e-01, -1.35321659e-01],\n",
       "       [-2.18191440e-01, -1.48522203e-01, -1.35321657e-01],\n",
       "       [-2.22412873e-01, -1.48525294e-01, -1.35321659e-01],\n",
       "       [-2.22776152e-01, -1.48525324e-01, -1.35321659e-01],\n",
       "       [-2.21857864e-01, -1.48525176e-01, -1.35321659e-01],\n",
       "       [-2.21768166e-01, -1.48525148e-01, -1.35321659e-01],\n",
       "       [-2.22883790e-01, -1.48525326e-01, -1.35321659e-01],\n",
       "       [-2.22822123e-01, -1.48525326e-01, -1.35321659e-01],\n",
       "       [-2.18965090e-01, -1.48523147e-01, -1.35321658e-01],\n",
       "       [-2.20646935e-01, -1.48524615e-01, -1.35321658e-01],\n",
       "       [-2.20983304e-01, -1.48524812e-01, -1.35321659e-01],\n",
       "       [ 2.63288473e+00,  1.00543647e+00,  3.09609310e-01],\n",
       "       [-2.22863608e-01, -1.48525326e-01, -1.35321659e-01],\n",
       "       [-1.31071667e-02, -1.42298294e-01, -1.35145288e-01],\n",
       "       [ 3.61271703e-01, -1.00240687e-01, -1.31513465e-01],\n",
       "       [-2.22009230e-01, -1.48525217e-01, -1.35321659e-01],\n",
       "       [-2.11677091e-01, -1.48507538e-01, -1.35321632e-01],\n",
       "       [-2.19189336e-01, -1.48523389e-01, -1.35321658e-01],\n",
       "       [-2.22665150e-01, -1.48525319e-01, -1.35321659e-01],\n",
       "       [-2.21308461e-01, -1.48524973e-01, -1.35321659e-01],\n",
       "       [ 3.70241547e-01, -9.87464731e-02, -1.31335333e-01],\n",
       "       [ 9.20532063e-03, -1.40903233e-01, -1.35082813e-01],\n",
       "       [-1.27584802e-01, -1.47240124e-01, -1.35305121e-01],\n",
       "       [-2.22048473e-01, -1.48525226e-01, -1.35321659e-01],\n",
       "       [-1.53373104e-01, -1.47841545e-01, -1.35315241e-01],\n",
       "       [ 7.23777846e+00,  7.72735550e+00,  7.79798404e+00],\n",
       "       [-2.18965090e-01, -1.48523147e-01, -1.35321658e-01],\n",
       "       [-2.15265029e-01, -1.48517101e-01, -1.35321650e-01],\n",
       "       [-1.83646328e-01, -1.48307420e-01, -1.35320504e-01],\n",
       "       [-2.18348413e-01, -1.48522409e-01, -1.35321657e-01],\n",
       "       [-2.22754849e-01, -1.48525324e-01, -1.35321659e-01],\n",
       "       [-2.22863608e-01, -1.48525326e-01, -1.35321659e-01],\n",
       "       [-2.22878184e-01, -1.48525326e-01, -1.35321659e-01],\n",
       "       [-2.21319674e-01, -1.48524978e-01, -1.35321659e-01],\n",
       "       [ 5.74182328e-02, -1.37407662e-01, -1.34900907e-01],\n",
       "       [-2.20086320e-01, -1.48524215e-01, -1.35321658e-01],\n",
       "       [-1.60661103e-01, -1.47977403e-01, -1.35317055e-01],\n",
       "       [-1.10766345e-01, -1.46746500e-01, -1.35294731e-01],\n",
       "       [-1.64406013e-01, -1.48041367e-01, -1.35317837e-01],\n",
       "       [-2.11060414e-01, -1.48505528e-01, -1.35321627e-01],\n",
       "       [-2.22272720e-01, -1.48525272e-01, -1.35321659e-01],\n",
       "       [-1.55615565e-01, -1.47884949e-01, -1.35315842e-01],\n",
       "       [-2.18852966e-01, -1.48523021e-01, -1.35321657e-01],\n",
       "       [-2.18081560e-01, -1.48522056e-01, -1.35321657e-01],\n",
       "       [-2.22575452e-01, -1.48525312e-01, -1.35321659e-01],\n",
       "       [-2.22805304e-01, -1.48525325e-01, -1.35321659e-01],\n",
       "       [-2.22752606e-01, -1.48525324e-01, -1.35321659e-01],\n",
       "       [-2.22835577e-01, -1.48525326e-01, -1.35321659e-01],\n",
       "       [-7.61313712e-03, -1.41967861e-01, -1.35131065e-01],\n",
       "       [-2.19525705e-01, -1.48523725e-01, -1.35321658e-01],\n",
       "       [-4.34925137e-02, -1.43971531e-01, -1.35211361e-01],\n",
       "       [-2.21880289e-01, -1.48525182e-01, -1.35321659e-01],\n",
       "       [-2.21073003e-01, -1.48524859e-01, -1.35321659e-01],\n",
       "       [-2.22772788e-01, -1.48525324e-01, -1.35321659e-01],\n",
       "       [-2.18140985e-01, -1.48522136e-01, -1.35321657e-01]])"
      ]
     },
     "execution_count": 90,
     "metadata": {},
     "output_type": "execute_result"
    }
   ],
   "source": [
    "Xscaled"
   ]
  },
  {
   "cell_type": "code",
   "execution_count": 93,
   "metadata": {},
   "outputs": [],
   "source": [
    "mammals['body_cubed'] = mammals['body']**3"
   ]
  },
  {
   "cell_type": "code",
   "execution_count": 97,
   "metadata": {},
   "outputs": [
    {
     "name": "stdout",
     "output_type": "stream",
     "text": [
      "       body   body_squared    body_cubed\n",
      "0     3.385      11.458225  3.878609e+01\n",
      "1     0.480       0.230400  1.105920e-01\n",
      "2     1.350       1.822500  2.460375e+00\n",
      "3   465.000  216225.000000  1.005446e+08\n",
      "4    36.330    1319.868900  4.795084e+04\n",
      "..      ...            ...           ...\n",
      "57  160.000   25600.000000  4.096000e+06\n",
      "58    0.900       0.810000  7.290000e-01\n",
      "59    1.620       2.624400  4.251528e+00\n",
      "60    0.104       0.010816  1.124864e-03\n",
      "61    4.235      17.935225  7.595568e+01\n",
      "\n",
      "[62 rows x 3 columns]\n",
      "    brain\n",
      "0    44.5\n",
      "1    15.5\n",
      "2     8.1\n",
      "3   423.0\n",
      "4   119.5\n",
      "..    ...\n",
      "57  169.0\n",
      "58    2.6\n",
      "59   11.4\n",
      "60    2.5\n",
      "61   50.4\n",
      "\n",
      "[62 rows x 1 columns]\n"
     ]
    }
   ],
   "source": [
    "from sklearn import preprocessing\n",
    "X = mammals[['body', 'body_squared', 'body_cubed']]\n",
    "Y = mammals[['brain']]\n",
    "print(X)\n",
    "print(Y)"
   ]
  },
  {
   "cell_type": "code",
   "execution_count": 98,
   "metadata": {},
   "outputs": [],
   "source": [
    "Xscaled = preprocessing.StandardScaler().fit_transform(X)\n",
    "Yscaled = preprocessing.StandardScaler().fit_transform(Y)"
   ]
  },
  {
   "cell_type": "code",
   "execution_count": 99,
   "metadata": {},
   "outputs": [],
   "source": [
    "import sklearn.model_selection as ms"
   ]
  },
  {
   "cell_type": "code",
   "execution_count": 101,
   "metadata": {},
   "outputs": [],
   "source": [
    "XTrain, XTest, yTrain, yTest = ms.train_test_split(Xscaled , Yscaled,  test_size=0.2, random_state=42)"
   ]
  },
  {
   "cell_type": "code",
   "execution_count": 102,
   "metadata": {},
   "outputs": [],
   "source": [
    "from sklearn.model_selection import GridSearchCV\n",
    "from sklearn.linear_model import Ridge, Lasso\n",
    "\n",
    "lambda_range = np.linspace(0.001, 0.2, 25)\n",
    "lambda_grid = [{'alpha': lambda_range}]"
   ]
  },
  {
   "cell_type": "code",
   "execution_count": 104,
   "metadata": {},
   "outputs": [
    {
     "data": {
      "text/plain": [
       "GridSearchCV(cv=KFold(n_splits=20, random_state=None, shuffle=False),\n",
       "             estimator=Ridge(max_iter=10000),\n",
       "             param_grid=[{'alpha': array([0.001     , 0.00929167, 0.01758333, 0.025875  , 0.03416667,\n",
       "       0.04245833, 0.05075   , 0.05904167, 0.06733333, 0.075625  ,\n",
       "       0.08391667, 0.09220833, 0.1005    , 0.10879167, 0.11708333,\n",
       "       0.125375  , 0.13366667, 0.14195833, 0.15025   , 0.15854167,\n",
       "       0.16683333, 0.175125  , 0.18341667, 0.19170833, 0.2       ])}])"
      ]
     },
     "execution_count": 104,
     "metadata": {},
     "output_type": "execute_result"
    }
   ],
   "source": [
    "model1 = Ridge(max_iter=10000)\n",
    "cv_ridge = GridSearchCV(estimator=model1, param_grid=lambda_grid, cv=ms.KFold(n_splits=20))\n",
    "cv_ridge.fit(XTrain, yTrain)"
   ]
  },
  {
   "cell_type": "code",
   "execution_count": 106,
   "metadata": {},
   "outputs": [
    {
     "data": {
      "text/plain": [
       "GridSearchCV(cv=KFold(n_splits=20, random_state=None, shuffle=False),\n",
       "             estimator=Lasso(max_iter=10000),\n",
       "             param_grid=[{'alpha': array([0.001     , 0.00929167, 0.01758333, 0.025875  , 0.03416667,\n",
       "       0.04245833, 0.05075   , 0.05904167, 0.06733333, 0.075625  ,\n",
       "       0.08391667, 0.09220833, 0.1005    , 0.10879167, 0.11708333,\n",
       "       0.125375  , 0.13366667, 0.14195833, 0.15025   , 0.15854167,\n",
       "       0.16683333, 0.175125  , 0.18341667, 0.19170833, 0.2       ])}])"
      ]
     },
     "execution_count": 106,
     "metadata": {},
     "output_type": "execute_result"
    }
   ],
   "source": [
    "model2 = Lasso(max_iter=10000)\n",
    "cv_lasso = GridSearchCV(estimator=model2, param_grid=lambda_grid, cv=ms.KFold(n_splits=20))\n",
    "cv_lasso.fit(XTrain, yTrain)"
   ]
  },
  {
   "cell_type": "code",
   "execution_count": 108,
   "metadata": {},
   "outputs": [],
   "source": [
    "bestLambda_ridge = cv_ridge.best_params_['alpha']\n",
    "bestLambda_lasso = cv_lasso.best_params_['alpha']"
   ]
  },
  {
   "cell_type": "code",
   "execution_count": 109,
   "metadata": {},
   "outputs": [
    {
     "name": "stdout",
     "output_type": "stream",
     "text": [
      "[ 1.65028091 -0.         -0.76712502]\n"
     ]
    }
   ],
   "source": [
    "Brain_lasso = Lasso(alpha=bestLambda_lasso, max_iter=10000)\n",
    "Brain_lasso.fit(XTrain, yTrain)\n",
    "print(Brain_lasso.coef_)"
   ]
  },
  {
   "cell_type": "code",
   "execution_count": 110,
   "metadata": {},
   "outputs": [
    {
     "name": "stdout",
     "output_type": "stream",
     "text": [
      "[[ 1.62505091  0.39864181 -1.1450847 ]]\n"
     ]
    }
   ],
   "source": [
    "Brain_ridge = Ridge(alpha=bestLambda_ridge, max_iter=10000)\n",
    "Brain_ridge.fit(XTrain, yTrain)\n",
    "print(Brain_ridge.coef_)"
   ]
  }
 ],
 "metadata": {
  "interpreter": {
   "hash": "916dbcbb3f70747c44a77c7bcd40155683ae19c65e1c03b4aa3499c5328201f1"
  },
  "kernelspec": {
   "display_name": "Python 3.8.10 64-bit",
   "language": "python",
   "name": "python3"
  },
  "language_info": {
   "codemirror_mode": {
    "name": "ipython",
    "version": 3
   },
   "file_extension": ".py",
   "mimetype": "text/x-python",
   "name": "python",
   "nbconvert_exporter": "python",
   "pygments_lexer": "ipython3",
   "version": "3.8.10"
  },
  "orig_nbformat": 4
 },
 "nbformat": 4,
 "nbformat_minor": 2
}
