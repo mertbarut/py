{
 "cells": [
  {
   "cell_type": "code",
   "execution_count": 1,
   "metadata": {},
   "outputs": [],
   "source": [
    "from sklearn.datasets import load_iris"
   ]
  },
  {
   "cell_type": "code",
   "execution_count": 2,
   "metadata": {},
   "outputs": [],
   "source": [
    "iris = load_iris()"
   ]
  },
  {
   "cell_type": "code",
   "execution_count": 3,
   "metadata": {},
   "outputs": [],
   "source": [
    "X = iris.data"
   ]
  },
  {
   "cell_type": "code",
   "execution_count": 5,
   "metadata": {},
   "outputs": [],
   "source": [
    "from scipy.cluster.hierarchy import linkage\n",
    "from scipy.cluster.hierarchy import dendrogram\n",
    "from scipy.spatial.distance import pdist"
   ]
  },
  {
   "cell_type": "code",
   "execution_count": 7,
   "metadata": {},
   "outputs": [],
   "source": [
    "X_dist = pdist(X)\n",
    "X_link = linkage(X, method=\"ward\")"
   ]
  },
  {
   "cell_type": "code",
   "execution_count": 11,
   "metadata": {},
   "outputs": [],
   "source": [
    "from scipy.cluster.hierarchy import cophenet"
   ]
  },
  {
   "cell_type": "code",
   "execution_count": 12,
   "metadata": {},
   "outputs": [],
   "source": [
    "coph_cor, coph_dist = cophenet(X_link, X_dist)"
   ]
  },
  {
   "cell_type": "code",
   "execution_count": 13,
   "metadata": {},
   "outputs": [
    {
     "name": "stdout",
     "output_type": "stream",
     "text": [
      "0.8728283153305715\n"
     ]
    }
   ],
   "source": [
    "print(coph_cor)"
   ]
  },
  {
   "cell_type": "code",
   "execution_count": 19,
   "metadata": {},
   "outputs": [
    {
     "name": "stdout",
     "output_type": "stream",
     "text": [
      "[101. 142.   0.   2.]\n",
      "[ 7.  39.   0.1  2. ]\n",
      "[ 0.  17.   0.1  2. ]\n",
      "[ 9.  34.   0.1  2. ]\n",
      "[1.28e+02 1.32e+02 1.00e-01 2.00e+00]\n",
      "[10.  48.   0.1  2. ]\n",
      "[ 4.         37.          0.14142136  2.        ]\n",
      "[19.         21.          0.14142136  2.        ]\n",
      "[29.         30.          0.14142136  2.        ]\n",
      "[57.         93.          0.14142136  2.        ]\n",
      "[80.         81.          0.14142136  2.        ]\n",
      "[116.         137.           0.14142136   2.        ]\n",
      "[ 8.         38.          0.14142136  2.        ]\n",
      "[ 3.         47.          0.14142136  2.        ]\n",
      "[27.         28.          0.14142136  2.        ]\n",
      "[82.         92.          0.14142136  2.        ]\n",
      "[95.         96.          0.14142136  2.        ]\n",
      "[127.         138.           0.14142136   2.        ]\n",
      "[ 1.         45.          0.14142136  2.        ]\n",
      "[63.         91.          0.14142136  2.        ]\n",
      "[65.         75.          0.14142136  2.        ]\n",
      "[ 40.         152.           0.17320508   3.        ]\n",
      "[123.         126.           0.17320508   2.        ]\n",
      "[ 49.         151.           0.17320508   3.        ]\n",
      "[112.         139.           0.17320508   2.        ]\n",
      "[94.         99.          0.17320508  2.        ]\n",
      "[ 12.         168.           0.18257419   3.        ]\n",
      "[ 88.         166.           0.18257419   3.        ]\n",
      "[66.  84.   0.2  2. ]\n",
      "[23.  26.   0.2  2. ]\n",
      "[53.  89.   0.2  2. ]\n",
      "[74.  97.   0.2  2. ]\n",
      "[ 25.        153.          0.2081666   3.       ]\n",
      "[ 46.         157.           0.21602469   3.        ]\n",
      "[  2.         163.           0.21602469   3.        ]\n",
      "[110.        147.          0.2236068   2.       ]\n",
      "[120.        143.          0.2236068   2.       ]\n",
      "[136.         148.           0.24494897   2.        ]\n",
      "[ 78.         169.           0.24494897   3.        ]\n",
      "[ 69.         160.           0.24494897   3.        ]\n",
      "[54.         58.          0.24494897  2.        ]\n",
      "[140.         144.           0.24494897   2.        ]\n",
      "[141.         145.           0.24494897   2.        ]\n",
      "[ 43.         179.           0.25819889   3.        ]\n",
      "[68.         87.          0.26457513  2.        ]\n",
      "[50.         52.          0.26457513  2.        ]\n",
      "[51.         56.          0.26457513  2.        ]\n",
      "[107.         130.           0.26457513   2.        ]\n",
      "[105.         122.           0.26457513   2.        ]\n",
      "[103.         161.           0.27080128   3.        ]\n",
      "[164.         171.           0.27568098   5.        ]\n",
      "[20.         31.          0.28284271  2.        ]\n",
      "[ 11.         158.           0.29439203   3.        ]\n",
      "[ 67.         165.           0.29439203   3.        ]\n",
      "[ 70.         167.           0.29439203   3.        ]\n",
      "[ 42.         162.           0.29439203   3.        ]\n",
      "[113.         150.           0.30550505   3.        ]\n",
      "[  6.         184.           0.31358146   4.        ]\n",
      "[173.         200.           0.31464265   8.        ]\n",
      "[55.         90.          0.31622777  2.        ]\n",
      "[176.         182.           0.31622777   6.        ]\n",
      "[ 86.         195.           0.32145503   3.        ]\n",
      "[124.         186.           0.33166248   3.        ]\n",
      "[ 83.         133.           0.33166248   2.        ]\n",
      "[ 5.         18.          0.33166248  2.        ]\n",
      "[ 13.         205.           0.33665016   4.        ]\n",
      "[175.         177.           0.34156503   5.        ]\n",
      "[32.         33.          0.34641016  2.        ]\n",
      "[125.         129.           0.34641016   2.        ]\n",
      "[104.         154.           0.35118846   3.        ]\n",
      "[ 73.         188.           0.35355339   4.        ]\n",
      "[149.         204.           0.35823642   4.        ]\n",
      "[146.         172.           0.36055513   3.        ]\n",
      "[121.         206.           0.36285902   4.        ]\n"
     ]
    }
   ],
   "source": [
    "for i in range(X_link.shape[0] // 2):\n",
    "\tprint(X_link[i])"
   ]
  },
  {
   "cell_type": "code",
   "execution_count": 23,
   "metadata": {},
   "outputs": [
    {
     "data": {
      "image/png": "[encoded data removed]",
      "text/plain": [
       "<Figure size 432x288 with 1 Axes>"
      ]
     },
     "metadata": {
      "needs_background": "light"
     },
     "output_type": "display_data"
    }
   ],
   "source": [
    "import matplotlib.pyplot as plt\n",
    "dendrogram(X_link, truncate_mode=\"lastp\", p=15, show_contracted=True)\n",
    "plt.show()"
   ]
  },
  {
   "cell_type": "code",
   "execution_count": 25,
   "metadata": {},
   "outputs": [],
   "source": [
    "from scipy.cluster.hierarchy import fcluster\n",
    "max_d = 9\n",
    "clusters = fcluster(X_link, max_d, criterion=\"distance\")"
   ]
  },
  {
   "cell_type": "code",
   "execution_count": 26,
   "metadata": {},
   "outputs": [],
   "source": [
    "from scipy.cluster.hierarchy import inconsistent\n",
    "depth = 6\n",
    "incons_measure = inconsistent(X_link, depth)"
   ]
  },
  {
   "cell_type": "code",
   "execution_count": 28,
   "metadata": {},
   "outputs": [
    {
     "data": {
      "text/plain": [
       "array([1, 1, 1, 1, 1, 1, 1, 1, 1, 1, 1, 1, 1, 1, 1, 1, 1, 1, 1, 1, 1, 1,\n",
       "       1, 1, 1, 1, 1, 1, 1, 1, 1, 1, 1, 1, 1, 1, 1, 1, 1, 1, 1, 1, 1, 1,\n",
       "       1, 1, 1, 1, 1, 1, 2, 2, 2, 2, 2, 2, 2, 2, 2, 2, 2, 2, 2, 2, 2, 2,\n",
       "       2, 2, 2, 2, 2, 2, 2, 2, 2, 2, 2, 2, 2, 2, 2, 2, 2, 2, 2, 2, 2, 2,\n",
       "       2, 2, 2, 2, 2, 2, 2, 2, 2, 2, 2, 2, 2, 2, 2, 2, 2, 2, 2, 2, 2, 2,\n",
       "       2, 2, 2, 2, 2, 2, 2, 2, 2, 2, 2, 2, 2, 2, 2, 2, 2, 2, 2, 2, 2, 2,\n",
       "       2, 2, 2, 2, 2, 2, 2, 2, 2, 2, 2, 2, 2, 2, 2, 2, 2, 2], dtype=int32)"
      ]
     },
     "execution_count": 28,
     "metadata": {},
     "output_type": "execute_result"
    }
   ],
   "source": [
    "clusters_incons = fcluster(X_link, t = 8, criterion=\"inconsistent\", depth=15)\n",
    "clusters_incons"
   ]
  }
 ],
 "metadata": {
  "interpreter": {
   "hash": "dfb8ab8f77398f9536a59cd5aef0c45033980b38d2babeb4b88e4c4a3281e204"
  },
  "kernelspec": {
   "display_name": "Python 3.9.5 64-bit ('mining': venv)",
   "name": "python3"
  },
  "language_info": {
   "codemirror_mode": {
    "name": "ipython",
    "version": 3
   },
   "file_extension": ".py",
   "mimetype": "text/x-python",
   "name": "python",
   "nbconvert_exporter": "python",
   "pygments_lexer": "ipython3",
   "version": "3.9.5"
  },
  "orig_nbformat": 4
 },
 "nbformat": 4,
 "nbformat_minor": 2
}
