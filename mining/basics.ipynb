{
 "cells": [
  {
   "cell_type": "code",
   "execution_count": 2,
   "metadata": {},
   "outputs": [],
   "source": [
    "from math import factorial\n",
    "from statistics import mean\n",
    "import numpy as np\n",
    "from numpy import array, dot\n",
    "from scipy import linalg\n",
    "import pandas as pd\n",
    "import matplotlib as mpl\n",
    "import matplotlib.pyplot as plt\n",
    "from pylab import *"
   ]
  },
  {
   "cell_type": "code",
   "execution_count": 3,
   "metadata": {},
   "outputs": [
    {
     "name": "stdout",
     "output_type": "stream",
     "text": [
      "[21 32 43 54 65]\n"
     ]
    }
   ],
   "source": [
    "A = np.array([1, 2, 3, 4, 5])\n",
    "B = np.array([20, 30, 40, 50, 60])\n",
    "C = A + B\n",
    "print(C)"
   ]
  },
  {
   "cell_type": "code",
   "execution_count": 4,
   "metadata": {},
   "outputs": [
    {
     "name": "stdout",
     "output_type": "stream",
     "text": [
      "[[  0.   13. ]\n",
      " [-25.4  -3. ]]\n"
     ]
    }
   ],
   "source": [
    "M1 = np.matrix([\n",
    "\t[2, 3],\n",
    "\t[-1, 5]\n",
    "])\n",
    "\n",
    "M2 = np.matrix([\n",
    "\t[1, 2],\n",
    "\t[-10, 5.4]\n",
    "])\n",
    "M3 = M2 * M1\n",
    "print(M3)"
   ]
  },
  {
   "cell_type": "code",
   "execution_count": 5,
   "metadata": {},
   "outputs": [
    {
     "name": "stdout",
     "output_type": "stream",
     "text": [
      "[[  0.  -25.4]\n",
      " [ 13.   -3. ]]\n"
     ]
    }
   ],
   "source": [
    "M3 = M3.transpose()\n",
    "print(M3)"
   ]
  },
  {
   "cell_type": "code",
   "execution_count": 6,
   "metadata": {},
   "outputs": [
    {
     "name": "stdout",
     "output_type": "stream",
     "text": [
      "[[0.]\n",
      " [1.]]\n"
     ]
    }
   ],
   "source": [
    "x = array([\n",
    "\t[1, 1],\n",
    "\t[1, 2],\n",
    "\t[1, 3],\n",
    "\t[1, 4]\n",
    "])\n",
    "y = array([\n",
    "\t[1],\n",
    "\t[2],\n",
    "\t[3],\n",
    "\t[4]\n",
    "])\n",
    "n = linalg.inv(dot(x.T, x))\n",
    "k = dot(x.T, y)\n",
    "coef = dot(n, k)\n",
    "print(coef)"
   ]
  },
  {
   "cell_type": "code",
   "execution_count": 7,
   "metadata": {},
   "outputs": [],
   "source": [
    "a = np.arange(10)"
   ]
  },
  {
   "cell_type": "code",
   "execution_count": 8,
   "metadata": {},
   "outputs": [
    {
     "name": "stdout",
     "output_type": "stream",
     "text": [
      "[2 3 4 5]\n"
     ]
    }
   ],
   "source": [
    "print(a[2:6])"
   ]
  },
  {
   "cell_type": "code",
   "execution_count": 9,
   "metadata": {},
   "outputs": [
    {
     "name": "stdout",
     "output_type": "stream",
     "text": [
      "[1 4 7]\n"
     ]
    }
   ],
   "source": [
    "print(a[1:9:3])"
   ]
  },
  {
   "cell_type": "code",
   "execution_count": 10,
   "metadata": {},
   "outputs": [
    {
     "name": "stdout",
     "output_type": "stream",
     "text": [
      "[[0 1 2 3]\n",
      " [0 2 4 6]]\n"
     ]
    }
   ],
   "source": [
    "b = np.array([\n",
    "\tnp.arange(4),\n",
    "\t2 * np.arange(4)\n",
    "\t])\n",
    "print(b)"
   ]
  },
  {
   "cell_type": "code",
   "execution_count": 11,
   "metadata": {},
   "outputs": [
    {
     "name": "stdout",
     "output_type": "stream",
     "text": [
      "(2, 4)\n"
     ]
    }
   ],
   "source": [
    "print(b.shape)"
   ]
  },
  {
   "cell_type": "code",
   "execution_count": 12,
   "metadata": {},
   "outputs": [
    {
     "name": "stdout",
     "output_type": "stream",
     "text": [
      "[[0 1 2 3]]\n"
     ]
    }
   ],
   "source": [
    "print(b[:1, :]) #rows, columns"
   ]
  },
  {
   "cell_type": "code",
   "execution_count": 13,
   "metadata": {},
   "outputs": [],
   "source": [
    "array1 = np.array([14.1, 15.2, 16.3])"
   ]
  },
  {
   "cell_type": "code",
   "execution_count": 14,
   "metadata": {},
   "outputs": [
    {
     "name": "stdout",
     "output_type": "stream",
     "text": [
      "0    14.1\n",
      "1    15.2\n",
      "2    16.3\n",
      "dtype: float64\n"
     ]
    }
   ],
   "source": [
    "series1 = pd.Series(array1)\n",
    "print(series1)"
   ]
  },
  {
   "cell_type": "code",
   "execution_count": 15,
   "metadata": {},
   "outputs": [
    {
     "name": "stdout",
     "output_type": "stream",
     "text": [
      "              limbs herbivore\n",
      "Python            0        No\n",
      "Iberian Lynx      4        No\n",
      "Giant Panda       4       Yes\n",
      "Field Mouse       4       Yes\n",
      "Octobus           8        No\n"
     ]
    }
   ],
   "source": [
    "features = {\n",
    "\t'limbs': [0, 4, 4, 4, 8],\n",
    "\t'herbivore': ['No', 'No', 'Yes', 'Yes', 'No']}\n",
    "animals = ['Python', 'Iberian Lynx', 'Giant Panda', 'Field Mouse', 'Octobus']\n",
    "df = pd.DataFrame(features, index = animals)\n",
    "print(df)"
   ]
  },
  {
   "cell_type": "code",
   "execution_count": 16,
   "metadata": {},
   "outputs": [
    {
     "name": "stdout",
     "output_type": "stream",
     "text": [
      "Giant Panda    4\n",
      "Field Mouse    4\n",
      "Octobus        8\n",
      "Name: limbs, dtype: int64\n"
     ]
    }
   ],
   "source": [
    "print(df['limbs'][2:5])"
   ]
  },
  {
   "cell_type": "code",
   "execution_count": 17,
   "metadata": {},
   "outputs": [
    {
     "name": "stdout",
     "output_type": "stream",
     "text": [
      "limbs         0\n",
      "herbivore    No\n",
      "Name: Python, dtype: object\n"
     ]
    }
   ],
   "source": [
    "print(df.loc['Python'])"
   ]
  },
  {
   "cell_type": "code",
   "execution_count": 18,
   "metadata": {},
   "outputs": [
    {
     "name": "stdout",
     "output_type": "stream",
     "text": [
      "count    5.000000\n",
      "mean     4.000000\n",
      "std      2.828427\n",
      "min      0.000000\n",
      "25%      4.000000\n",
      "50%      4.000000\n",
      "75%      4.000000\n",
      "max      8.000000\n",
      "Name: limbs, dtype: float64\n"
     ]
    }
   ],
   "source": [
    "print(df['limbs'].describe())"
   ]
  },
  {
   "cell_type": "code",
   "execution_count": 19,
   "metadata": {},
   "outputs": [
    {
     "name": "stdout",
     "output_type": "stream",
     "text": [
      "count      5\n",
      "unique     2\n",
      "top       No\n",
      "freq       3\n",
      "Name: herbivore, dtype: object\n"
     ]
    }
   ],
   "source": [
    "print(df['herbivore'].describe())"
   ]
  },
  {
   "cell_type": "code",
   "execution_count": 20,
   "metadata": {},
   "outputs": [
    {
     "name": "stdout",
     "output_type": "stream",
     "text": [
      "{'No': ['Python', 'Iberian Lynx', 'Octobus'], 'Yes': ['Giant Panda', 'Field Mouse']}\n"
     ]
    }
   ],
   "source": [
    "df['class'] = ['reptile', 'mammal', 'mammal', 'mammal', 'mollusc']\n",
    "grouped = df['class'].groupby(df['herbivore'])\n",
    "print(grouped.groups)"
   ]
  },
  {
   "cell_type": "code",
   "execution_count": 21,
   "metadata": {},
   "outputs": [
    {
     "name": "stdout",
     "output_type": "stream",
     "text": [
      "herbivore\n",
      "No     3\n",
      "Yes    2\n",
      "Name: class, dtype: int64\n"
     ]
    }
   ],
   "source": [
    "print(grouped.size())"
   ]
  },
  {
   "cell_type": "code",
   "execution_count": 22,
   "metadata": {},
   "outputs": [
    {
     "name": "stdout",
     "output_type": "stream",
     "text": [
      "herbivore\n",
      "No     4\n",
      "Yes    4\n",
      "Name: limbs, dtype: int64\n"
     ]
    }
   ],
   "source": [
    "print(df['limbs'].groupby(df['herbivore']).aggregate(mean))"
   ]
  },
  {
   "cell_type": "code",
   "execution_count": 23,
   "metadata": {},
   "outputs": [
    {
     "name": "stdout",
     "output_type": "stream",
     "text": [
      "[ 1  2  3  4  5  6  7  8  9 10 11 12 13 14 15 16]\n"
     ]
    }
   ],
   "source": [
    "x = np.linspace(1, 16, 16, dtype = int)\n",
    "print(x)"
   ]
  },
  {
   "cell_type": "code",
   "execution_count": 24,
   "metadata": {},
   "outputs": [
    {
     "data": {
      "image/png": "[encoded data removed]",
      "text/plain": [
       "<Figure size 432x288 with 1 Axes>"
      ]
     },
     "metadata": {
      "needs_background": "light"
     },
     "output_type": "display_data"
    }
   ],
   "source": [
    "y1 = np.linspace(1, 1, 16, dtype = int)\n",
    "y2 = log2(x)\n",
    "y3 = x\n",
    "y4 = log2(x) * x\n",
    "y5 = x**2\n",
    "y6 = 2**x\n",
    "fig, ax = plt.subplots()\n",
    "ax.plot(x, y1, 'r',\t\tlabel = r\"$y_1 = 1$\", linewidth = 2)\n",
    "ax.plot(x, y2, 'k--',\tlabel = r\"$y_2 = log(x)$\", linewidth = 2)\n",
    "ax.plot(x, y3, 'g',\t\tlabel = r\"$y_3 = x$\", linewidth = 2)\n",
    "ax.plot(x, y4, 'b',\t\tlabel = r\"$y_4 = log(x) * x$\", linewidth = 2)\n",
    "ax.plot(x, y5, 'c',\t\tlabel = r\"$y_5 = x^2$\", linewidth = 2)\n",
    "#ax.plot(x, y6, 'p',\t\tlabel = r\"$y_6 = 2^x$\", linewidth = 2)\n",
    "ax.legend(loc = 2)\n",
    "ax.set_xlabel(r\"$x$\", fontsize = 18)\n",
    "ax.set_xlabel(r\"$y$\", fontsize = 18)\n",
    "ax.set_title(\"O(n) plot\")\n",
    "plt.show()"
   ]
  },
  {
   "cell_type": "code",
   "execution_count": 25,
   "metadata": {},
   "outputs": [],
   "source": [
    "fig.savefig(\"../plots/o_n.png\")"
   ]
  }
 ],
 "metadata": {
  "interpreter": {
   "hash": "dfb8ab8f77398f9536a59cd5aef0c45033980b38d2babeb4b88e4c4a3281e204"
  },
  "kernelspec": {
   "display_name": "Python 3.9.5 64-bit ('mining': venv)",
   "name": "python3"
  },
  "language_info": {
   "codemirror_mode": {
    "name": "ipython",
    "version": 3
   },
   "file_extension": ".py",
   "mimetype": "text/x-python",
   "name": "python",
   "nbconvert_exporter": "python",
   "pygments_lexer": "ipython3",
   "version": "3.9.5"
  },
  "orig_nbformat": 4
 },
 "nbformat": 4,
 "nbformat_minor": 2
}
